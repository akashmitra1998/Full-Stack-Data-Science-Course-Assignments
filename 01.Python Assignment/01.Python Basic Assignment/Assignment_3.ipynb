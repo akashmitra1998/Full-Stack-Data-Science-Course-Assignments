{
 "cells": [
  {
   "cell_type": "markdown",
   "metadata": {},
   "source": [
    "## 1. Why are functions advantageous to have in your programs?\n",
    "\n",
    "Functions are used for effective memory utilization and it makes the code more efficient and less cluttered.With the help of functions we can read,update or delete the code more easily"
   ]
  },
  {
   "cell_type": "markdown",
   "metadata": {},
   "source": [
    "## 2. When does the code in a function run: when it's specified or when it's called?\n",
    "\n",
    "The code in a function executes when the function is called"
   ]
  },
  {
   "cell_type": "markdown",
   "metadata": {},
   "source": [
    "## 3. What statement creates a function?\n",
    "\n",
    "The “def” keyword is a statement for defining a function in Python."
   ]
  },
  {
   "cell_type": "markdown",
   "metadata": {},
   "source": [
    "## 4. What is the difference between a function and a function call?\n",
    "\n",
    "A function is a block of code that does a particular operation and returns a result. It usually accepts inputs as parameters and returns a result.  A function call is the code used to pass control to a function.\n"
   ]
  },
  {
   "cell_type": "markdown",
   "metadata": {},
   "source": [
    "## 5. How many global scopes are there in a Python program? How many local scopes?\n",
    "\n",
    "A python program has one global scope. A local scope is created when a function is called"
   ]
  },
  {
   "cell_type": "markdown",
   "metadata": {},
   "source": [
    "## 6. What happens to variables in a local scope when the function call returns?\n",
    "\n",
    "The local scope is destroyed when a function call returns\n",
    "\n"
   ]
  },
  {
   "cell_type": "markdown",
   "metadata": {},
   "source": [
    "## 7. What is the concept of a return value? Is it possible to have a return value in an expression?\n",
    "\n",
    "A return value is a value that a function evaluates when called and returns it back to the caller using return statement. It is possible to have a return value in an expression."
   ]
  },
  {
   "cell_type": "markdown",
   "metadata": {},
   "source": [
    "## 8. If a function does not have a return statement, what is the return value of a call to that function?\n",
    "\n",
    "If a function does not have a return statement,the return value of a call to that function is None"
   ]
  },
  {
   "cell_type": "markdown",
   "metadata": {},
   "source": [
    "## 9. How do you make a function variable refer to the global variable?\n",
    "\n",
    "We make a function variable refer to the global variable by using the global keyword"
   ]
  },
  {
   "cell_type": "markdown",
   "metadata": {},
   "source": [
    "## 10. What is the data type of None?\n",
    "\n",
    "The data type of None is NoneType."
   ]
  },
  {
   "cell_type": "markdown",
   "metadata": {},
   "source": [
    "## 11. What does the sentence import areallyourpetsnamederic do?\n",
    "\n",
    "\n",
    "The sentence imports a module named areallyourpetsnamederic,if it exists."
   ]
  },
  {
   "cell_type": "markdown",
   "metadata": {},
   "source": [
    "## 12. If you had a bacon() feature in a spam module, what would you call it after importing spam?\n",
    "\n",
    "spam.bacon()"
   ]
  },
  {
   "cell_type": "markdown",
   "metadata": {},
   "source": [
    "## 13. What can you do to save a programme from crashing if it encounters an error?\n",
    "\n",
    "To save a programme from crashing if it encounters an error,we can place the code block likely to face an error inside a try clause\n",
    "\n"
   ]
  },
  {
   "cell_type": "markdown",
   "metadata": {},
   "source": [
    "## 14. What is the purpose of the try clause? What is the purpose of the except clause?\n",
    "\n",
    "Try block is used for exception handling,we place the code that is likely to place an error in the try clause.And the except clause we add a code to follow when an exception occurs."
   ]
  },
  {
   "cell_type": "code",
   "execution_count": null,
   "metadata": {},
   "outputs": [],
   "source": []
  }
 ],
 "metadata": {
  "kernelspec": {
   "display_name": "Python 3",
   "language": "python",
   "name": "python3"
  },
  "language_info": {
   "codemirror_mode": {
    "name": "ipython",
    "version": 3
   },
   "file_extension": ".py",
   "mimetype": "text/x-python",
   "name": "python",
   "nbconvert_exporter": "python",
   "pygments_lexer": "ipython3",
   "version": "3.8.5"
  }
 },
 "nbformat": 4,
 "nbformat_minor": 4
}
