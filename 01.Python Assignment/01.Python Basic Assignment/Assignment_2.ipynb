{
 "cells": [
  {
   "cell_type": "markdown",
   "metadata": {},
   "source": [
    "## 1.What are the two values of the Boolean data type? How do you write them?"
   ]
  },
  {
   "cell_type": "markdown",
   "metadata": {},
   "source": [
    "Ans:-The two values of Boolean data type are 'True' and 'False'.\n",
    "\n",
    "For example:\n",
    "\n",
    "8 > (5 + 2) \n",
    "\n",
    "True\n",
    "\n",
    "0 == 6\n",
    "\n",
    "False"
   ]
  },
  {
   "cell_type": "markdown",
   "metadata": {},
   "source": [
    "## 2. What are the three different types of Boolean operators?\n"
   ]
  },
  {
   "cell_type": "markdown",
   "metadata": {},
   "source": [
    "Ans:-The three different boolean operators are AND,OR and NOT"
   ]
  },
  {
   "cell_type": "markdown",
   "metadata": {},
   "source": [
    "## 3. Make a list of each Boolean operator's truth tables (i.e. every possible combination of Boolean values for the operator and what it evaluate ).\n"
   ]
  },
  {
   "cell_type": "raw",
   "metadata": {},
   "source": [
    "AND Operator:-\n",
    "\n",
    "|x  |  y | Output  |\n",
    "| 0 |  0 |    0    |\n",
    "| 0 |  1 |    0    |\n",
    "| 1 |  0 |    0    |\n",
    "| 1 |  1 |    1    |\n",
    "\n",
    "\n",
    "OR Operator:-\n",
    "\n",
    "|x  |  y | Output  |\n",
    "| 0 |  0 |    0    |\n",
    "| 0 |  1 |    1    |\n",
    "| 1 |  0 |    1    |\n",
    "| 1 |  1 |    1    |\n",
    "\n",
    "\n",
    "NOT Operator:-\n",
    "\n",
    "|x  | !x | \n",
    "| 0 |  1 |  \n",
    "| 1 |  0 |   \n",
    "\n",
    "\n"
   ]
  },
  {
   "cell_type": "markdown",
   "metadata": {},
   "source": [
    "## 4. What are the values of the following expressions?\n",
    "(5 > 4) and (3 == 5)\n",
    "\n",
    "not (5 > 4)\n",
    "\n",
    "(5 > 4) or (3 == 5)\n",
    "\n",
    "not ((5 > 4) or (3 == 5))\n",
    "\n",
    "(True and True) and (True == False)\n",
    "\n",
    "(not False) or (not True)\n"
   ]
  },
  {
   "cell_type": "markdown",
   "metadata": {},
   "source": [
    "## Solution:\n",
    "(5 > 4) and (3 == 5)\n",
    "\n",
    "Ans:- False\n",
    "\n",
    "\n",
    "not (5 > 4)\n",
    "\n",
    "Ans:-False\n",
    "\n",
    "\n",
    "(5 > 4) or (3 == 5)\n",
    "\n",
    "Ans:-True\n",
    "\n",
    "\n",
    "not ((5 > 4) or (3 == 5))\n",
    "\n",
    "Ans:- False\n",
    "\n",
    "\n",
    "(True and True) and (True == False)\n",
    "\n",
    "Ans:- False\n",
    "\n",
    "\n",
    "(not False) or (not True)\n",
    "\n",
    "Ans:True"
   ]
  },
  {
   "cell_type": "markdown",
   "metadata": {},
   "source": [
    "## 5. What are the six comparison operators?\n"
   ]
  },
  {
   "cell_type": "markdown",
   "metadata": {},
   "source": [
    "1. Python Less Than (<) Operator\n",
    "2. Python Greater Than (>) Operator\n",
    "3. Less Than or Equal To (<=) Operator\n",
    "4. Equal To or Greater Than – Python (>=) Operator\n",
    "5. Python Equal To (==) Operator\n",
    "6. Python Not Equal Operator (!=) Operator\n"
   ]
  },
  {
   "cell_type": "markdown",
   "metadata": {},
   "source": [
    "## 6. How do you tell the difference between the equal to and assignment operators?Describe a condition and when you would use one.\n"
   ]
  },
  {
   "cell_type": "markdown",
   "metadata": {},
   "source": [
    "The “=” is an assignment operator is used to assign the value on the right to the variable on the left.\n",
    "For example:\n",
    "\n",
    "a = 10;\n",
    "b = 20;\n",
    "ch = 'y';\n",
    "\n",
    "\n",
    "The ‘==’ operator checks whether the two given operands are equal or not. If so, it returns true. Otherwise it returns false.\n",
    "For example:\n",
    "\n",
    "5==5\n",
    "\n",
    "This will return true."
   ]
  },
  {
   "cell_type": "markdown",
   "metadata": {},
   "source": [
    "## 7. Identify the three blocks in this code:\n",
    "spam = 0\n",
    "\n",
    "if spam == 10:\n",
    "\n",
    "print('eggs')\n",
    "\n",
    "if spam > 5:\n",
    "\n",
    "print('bacon')\n",
    "\n",
    "else:\n",
    "\n",
    "print('ham')\n",
    "\n",
    "print('spam')\n",
    "\n",
    "print('spam')\n"
   ]
  },
  {
   "cell_type": "markdown",
   "metadata": {},
   "source": [
    "The three blocks are everything inside the if statement and the lines print('bacon') and print('ham').\n",
    "\n",
    "\n",
    "print('eggs')\n",
    "if spam > 5:\n",
    "    print('bacon')\n",
    "else:\n",
    "    print('ham')\n",
    "print('spam')"
   ]
  },
  {
   "cell_type": "markdown",
   "metadata": {},
   "source": [
    "## 8. Write code that prints Hello if 1 is stored in spam, prints Howdy if 2 is stored in spam, and prints Greetings! if anything else is stored in spam.\n",
    "\n"
   ]
  },
  {
   "cell_type": "raw",
   "metadata": {},
   "source": [
    "if spam == 1:\n",
    "    print('Hello')\n",
    "elif spam == 2:\n",
    "    print('Howdy')\n",
    "else:\n",
    "    print('Greetings!')\n"
   ]
  },
  {
   "cell_type": "markdown",
   "metadata": {},
   "source": [
    "## 9.If your programme is stuck in an endless loop, what keys you’ll press?\n"
   ]
  },
  {
   "cell_type": "markdown",
   "metadata": {},
   "source": [
    "CTRL-C"
   ]
  },
  {
   "cell_type": "markdown",
   "metadata": {},
   "source": [
    "## 10. How can you tell the difference between break and continue?\n"
   ]
  },
  {
   "cell_type": "markdown",
   "metadata": {},
   "source": [
    "The break statement will move the execution outside and just after a loop. The continue statement will move the execution to the start of the loop."
   ]
  },
  {
   "cell_type": "markdown",
   "metadata": {},
   "source": [
    "## 11. In a for loop, what is the difference between range(10), range(0, 10), and range(0, 10, 1)?"
   ]
  },
  {
   "cell_type": "markdown",
   "metadata": {},
   "source": [
    "Logically,they all perform the same function,range(10) means the variable will start from 0 and go upto 10 but will not include 10.\n",
    "\n",
    "range(0,10) means the loop will start from 0\n",
    "\n",
    "range(0,10,1) means the same and 1 is the increment value"
   ]
  },
  {
   "cell_type": "markdown",
   "metadata": {},
   "source": [
    "## 12. Write a short program that prints the numbers 1 to 10 using a for loop. Then write an equivalent program that prints the numbers 1 to 10 using a while loop."
   ]
  },
  {
   "cell_type": "markdown",
   "metadata": {},
   "source": [
    "### For LOOP\n",
    "\n",
    "for num in range(1, 11):\n",
    "\n",
    "    print(num)\n",
    "\n",
    "### While LOOP\n",
    "\n",
    "num = 1\n",
    "\n",
    "while num <= 10:\n",
    "\n",
    "    print(num)\n",
    "    \n",
    "    num = num + 1"
   ]
  },
  {
   "cell_type": "markdown",
   "metadata": {},
   "source": [
    "## 13. If you had a function named bacon() inside a module named spam, how would you call it after importing spam?"
   ]
  },
  {
   "cell_type": "markdown",
   "metadata": {},
   "source": [
    "spam.bacon()"
   ]
  },
  {
   "cell_type": "code",
   "execution_count": null,
   "metadata": {},
   "outputs": [],
   "source": []
  }
 ],
 "metadata": {
  "kernelspec": {
   "display_name": "Python 3",
   "language": "python",
   "name": "python3"
  },
  "language_info": {
   "codemirror_mode": {
    "name": "ipython",
    "version": 3
   },
   "file_extension": ".py",
   "mimetype": "text/x-python",
   "name": "python",
   "nbconvert_exporter": "python",
   "pygments_lexer": "ipython3",
   "version": "3.8.5"
  }
 },
 "nbformat": 4,
 "nbformat_minor": 4
}
