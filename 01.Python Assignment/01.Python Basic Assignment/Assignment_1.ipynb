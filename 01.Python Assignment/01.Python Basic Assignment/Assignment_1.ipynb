{
 "cells": [
  {
   "cell_type": "raw",
   "metadata": {},
   "source": [
    "\n",
    "1. What are the differences between operators and values in the following?\n",
    "*\n",
    "'hello'\n",
    "-87.8\n",
    "-\n",
    "/\n",
    "+\n",
    "6\n",
    "\n",
    "\n",
    "Ans. The operators are +, -, *, and /. The values are 'hello', -87.8, and 6.\n"
   ]
  },
  {
   "cell_type": "raw",
   "metadata": {},
   "source": [
    "2. What is the difference between string and variable?\n",
    "spam\n",
    "'spam'\n",
    "\n",
    "Ans. A string is a datatype which is a collection of alphanumeric characters and represented in quotes whereas a variable is a named entity location used to store values of different datatypes.\n",
    "e.g., spam= ’spam’\n",
    "\n"
   ]
  },
  {
   "cell_type": "raw",
   "metadata": {},
   "source": [
    "3. Describe three different data forms.\n",
    "\n",
    "Ans. The three different data forms are integer, float and string.\n",
    "\n"
   ]
  },
  {
   "cell_type": "raw",
   "metadata": {},
   "source": [
    "\n",
    "4. What makes up an expression? What are the functions of all expressions?\n",
    "\n",
    "Ans . An expression consists of an operator as well as the operands. The function of all expressions is to evaluate to a single value."
   ]
  },
  {
   "cell_type": "raw",
   "metadata": {},
   "source": [
    "5. In this chapter, assignment statements such as spam = 10 were added. What's the difference between a declaration and an expression?\n",
    "\n",
    "Ans. Declaration is when we want to assign a datatype to a variable, meanwhile an expression is used when we want to compare two operands, or check some conditions for a single  operand\n",
    "Eg, Declaration:- spam=10\n",
    "      Expression :- spam!=10 \n"
   ]
  },
  {
   "cell_type": "raw",
   "metadata": {},
   "source": [
    "6. After running the following code, what does the variable bacon contain?\n",
    "bacon = 22\n",
    "bacon + 1\n",
    "\n",
    "Ans. 22"
   ]
  },
  {
   "cell_type": "raw",
   "metadata": {},
   "source": [
    "7. What should the values of the following two terms be?\n",
    "\n",
    "'spam' + 'spamspam'\n",
    "'spam' * 3\n",
    "\n",
    "Ans. spamspamspam"
   ]
  },
  {
   "cell_type": "raw",
   "metadata": {},
   "source": [
    "8. Why is it that eggs is a true variable name but 100 is not?\n",
    "\n",
    "Ans. The reason is that Variable names cannot begin with a number."
   ]
  },
  {
   "cell_type": "raw",
   "metadata": {},
   "source": [
    "9. Which of the following three functions may be used to convert a value to an integer, a floating-point number, or a string?\n",
    "\n",
    "Ans. int(), float(), and str() functions are used to convert a value to an integer, a floating-point number, or a string."
   ]
  },
  {
   "cell_type": "raw",
   "metadata": {},
   "source": [
    "10. What is the error caused by this expression? What would you do about it?\n",
    "\n",
    "'I have eaten ' + 99 + ' burritos.'\n",
    "Ans. Since 99 is an integer we face an error while trying to concatenate it with the strings. To avoid this error we can convert the numeric value into a string."
   ]
  },
  {
   "cell_type": "code",
   "execution_count": null,
   "metadata": {},
   "outputs": [],
   "source": []
  }
 ],
 "metadata": {
  "kernelspec": {
   "display_name": "Python 3",
   "language": "python",
   "name": "python3"
  },
  "language_info": {
   "codemirror_mode": {
    "name": "ipython",
    "version": 3
   },
   "file_extension": ".py",
   "mimetype": "text/x-python",
   "name": "python",
   "nbconvert_exporter": "python",
   "pygments_lexer": "ipython3",
   "version": "3.7.9"
  }
 },
 "nbformat": 4,
 "nbformat_minor": 4
}
